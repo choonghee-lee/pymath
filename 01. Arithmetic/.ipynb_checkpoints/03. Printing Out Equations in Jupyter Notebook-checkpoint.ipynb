{
 "cells": [
  {
   "cell_type": "code",
   "execution_count": 5,
   "id": "5eaa1130",
   "metadata": {},
   "outputs": [
    {
     "data": {
      "text/plain": [
       "'4 + 3 = 7'"
      ]
     },
     "metadata": {},
     "output_type": "display_data"
    },
    {
     "data": {
      "text/plain": [
       "'4 + 3 = 7'"
      ]
     },
     "metadata": {},
     "output_type": "display_data"
    }
   ],
   "source": [
    "from IPython.display import display, Math\n",
    "\n",
    "display( '4 + 3 = 7')\n",
    "display( '4 + 3 = ' + str(4+3))"
   ]
  },
  {
   "cell_type": "code",
   "execution_count": 6,
   "id": "047ae459",
   "metadata": {},
   "outputs": [
    {
     "data": {
      "text/latex": [
       "$\\displaystyle 4+3=7$"
      ],
      "text/plain": [
       "<IPython.core.display.Math object>"
      ]
     },
     "metadata": {},
     "output_type": "display_data"
    }
   ],
   "source": [
    "display(Math('4+3=7'))"
   ]
  },
  {
   "cell_type": "code",
   "execution_count": 20,
   "id": "00498543",
   "metadata": {},
   "outputs": [
    {
     "data": {
      "text/latex": [
       "$\\displaystyle 4 + 5 = 9$"
      ],
      "text/plain": [
       "<IPython.core.display.Math object>"
      ]
     },
     "metadata": {},
     "output_type": "display_data"
    }
   ],
   "source": [
    "x = 4\n",
    "y = 5\n",
    "\n",
    "display(Math( str(x) + ' + '+ str(y) + ' = ' + str(x+y) ))"
   ]
  },
  {
   "cell_type": "code",
   "execution_count": 23,
   "id": "a09ec87d",
   "metadata": {},
   "outputs": [
    {
     "data": {
      "text/latex": [
       "$\\displaystyle 4+5=9$"
      ],
      "text/plain": [
       "<IPython.core.display.Math object>"
      ]
     },
     "metadata": {},
     "output_type": "display_data"
    }
   ],
   "source": [
    "display(Math( '%g+%g=%g' %(x,y,x+y)))"
   ]
  },
  {
   "cell_type": "code",
   "execution_count": 28,
   "id": "9ad1a649",
   "metadata": {},
   "outputs": [
    {
     "data": {
      "text/latex": [
       "$\\displaystyle 4/5 = .8$"
      ],
      "text/plain": [
       "<IPython.core.display.Math object>"
      ]
     },
     "metadata": {},
     "output_type": "display_data"
    },
    {
     "data": {
      "text/latex": [
       "$\\displaystyle \\frac{4}{5} = 0.8$"
      ],
      "text/plain": [
       "<IPython.core.display.Math object>"
      ]
     },
     "metadata": {},
     "output_type": "display_data"
    }
   ],
   "source": [
    "display(Math('4/5 = .8'))\n",
    "display(Math('\\\\frac{4}{5} = %g' %(4/5)))"
   ]
  },
  {
   "cell_type": "code",
   "execution_count": 30,
   "id": "68649320",
   "metadata": {},
   "outputs": [
    {
     "data": {
      "text/latex": [
       "$\\displaystyle 3.4 \\times 17 = 57.8$"
      ],
      "text/plain": [
       "<IPython.core.display.Math object>"
      ]
     },
     "metadata": {},
     "output_type": "display_data"
    }
   ],
   "source": [
    "x = 3.4\n",
    "y = 17\n",
    "\n",
    "display(Math('%g \\\\times %g = %g' %(x,y,x*y)))"
   ]
  },
  {
   "cell_type": "code",
   "execution_count": 32,
   "id": "5cfc96b6",
   "metadata": {},
   "outputs": [],
   "source": [
    "x = 7\n",
    "y = -2\n",
    "z = 5"
   ]
  },
  {
   "cell_type": "code",
   "execution_count": 38,
   "id": "aba8754c",
   "metadata": {},
   "outputs": [
    {
     "data": {
      "text/latex": [
       "$\\displaystyle 3x(4+y)= 42$"
      ],
      "text/plain": [
       "<IPython.core.display.Math object>"
      ]
     },
     "metadata": {},
     "output_type": "display_data"
    },
    {
     "data": {
      "text/latex": [
       "$\\displaystyle 3\\times7(4-2)= 42$"
      ],
      "text/plain": [
       "<IPython.core.display.Math object>"
      ]
     },
     "metadata": {},
     "output_type": "display_data"
    }
   ],
   "source": [
    "ans = 3*x*(4+y)\n",
    "display( Math('3x(4+y)= %g'%(ans)))\n",
    "display( Math('3\\\\times%g(4%g)= %g'%(x,y,ans)))"
   ]
  },
  {
   "cell_type": "code",
   "execution_count": 42,
   "id": "487c6a1a",
   "metadata": {},
   "outputs": [
    {
     "data": {
      "text/latex": [
       "$\\displaystyle -y - \\frac{x+3}{z} = 0$"
      ],
      "text/plain": [
       "<IPython.core.display.Math object>"
      ]
     },
     "metadata": {},
     "output_type": "display_data"
    },
    {
     "data": {
      "text/latex": [
       "$\\displaystyle --2 - \\frac{7+3}{5} = 0$"
      ],
      "text/plain": [
       "<IPython.core.display.Math object>"
      ]
     },
     "metadata": {},
     "output_type": "display_data"
    }
   ],
   "source": [
    "ans = -1*y - (x+3)/z\n",
    "display(Math('-y - \\\\frac{x+3}{z} = %g'%(ans)))\n",
    "display(Math('-%g - \\\\frac{%g+3}{%g} = %g' %(y,x,z,ans)))"
   ]
  }
 ],
 "metadata": {
  "kernelspec": {
   "display_name": "Python 3",
   "language": "python",
   "name": "python3"
  },
  "language_info": {
   "codemirror_mode": {
    "name": "ipython",
    "version": 3
   },
   "file_extension": ".py",
   "mimetype": "text/x-python",
   "name": "python",
   "nbconvert_exporter": "python",
   "pygments_lexer": "ipython3",
   "version": "3.9.4"
  }
 },
 "nbformat": 4,
 "nbformat_minor": 5
}
