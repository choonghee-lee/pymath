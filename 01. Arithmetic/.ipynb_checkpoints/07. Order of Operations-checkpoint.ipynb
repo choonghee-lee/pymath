{
 "cells": [
  {
   "cell_type": "code",
   "execution_count": 1,
   "id": "a700c7ed",
   "metadata": {},
   "outputs": [
    {
     "name": "stdout",
     "output_type": "stream",
     "text": [
      "9\n"
     ]
    }
   ],
   "source": [
    "print( 4 + 3 * 2 - 1)"
   ]
  },
  {
   "cell_type": "code",
   "execution_count": 2,
   "id": "2ac6db2c",
   "metadata": {},
   "outputs": [
    {
     "name": "stdout",
     "output_type": "stream",
     "text": [
      "7\n"
     ]
    }
   ],
   "source": [
    "print( (4+3) * (2-1))"
   ]
  },
  {
   "cell_type": "code",
   "execution_count": 4,
   "id": "c3ea9c92",
   "metadata": {},
   "outputs": [
    {
     "data": {
      "text/plain": [
       "2.0"
      ]
     },
     "execution_count": 4,
     "metadata": {},
     "output_type": "execute_result"
    }
   ],
   "source": [
    "4*5/(7+3)"
   ]
  },
  {
   "cell_type": "code",
   "execution_count": 6,
   "id": "ef2118a4",
   "metadata": {},
   "outputs": [
    {
     "data": {
      "text/plain": [
       "0.0"
      ]
     },
     "execution_count": 6,
     "metadata": {},
     "output_type": "execute_result"
    }
   ],
   "source": [
    "9/(3+6) - 1"
   ]
  }
 ],
 "metadata": {
  "kernelspec": {
   "display_name": "Python 3",
   "language": "python",
   "name": "python3"
  },
  "language_info": {
   "codemirror_mode": {
    "name": "ipython",
    "version": 3
   },
   "file_extension": ".py",
   "mimetype": "text/x-python",
   "name": "python",
   "nbconvert_exporter": "python",
   "pygments_lexer": "ipython3",
   "version": "3.9.4"
  }
 },
 "nbformat": 4,
 "nbformat_minor": 5
}
