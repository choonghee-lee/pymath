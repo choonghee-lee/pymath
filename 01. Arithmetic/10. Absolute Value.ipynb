{
 "cells": [
  {
   "cell_type": "code",
   "execution_count": 1,
   "id": "0bf11d25",
   "metadata": {},
   "outputs": [
    {
     "data": {
      "text/plain": [
       "4"
      ]
     },
     "execution_count": 1,
     "metadata": {},
     "output_type": "execute_result"
    }
   ],
   "source": [
    "abs(4)"
   ]
  },
  {
   "cell_type": "code",
   "execution_count": 4,
   "id": "6cc79882",
   "metadata": {},
   "outputs": [
    {
     "data": {
      "text/plain": [
       "(-4, 4)"
      ]
     },
     "execution_count": 4,
     "metadata": {},
     "output_type": "execute_result"
    }
   ],
   "source": [
    "a = -4\n",
    "b = abs(a)\n",
    "a,b"
   ]
  },
  {
   "cell_type": "code",
   "execution_count": 8,
   "id": "aecf4bbd",
   "metadata": {},
   "outputs": [
    {
     "data": {
      "text/latex": [
       "$\\displaystyle |-4.3| = 4.3$"
      ],
      "text/plain": [
       "<IPython.core.display.Math object>"
      ]
     },
     "metadata": {},
     "output_type": "display_data"
    }
   ],
   "source": [
    "from IPython.display import Math, display\n",
    "\n",
    "x = -4.3\n",
    "\n",
    "display(Math('|%g| = %g'% (x, abs(x))))"
   ]
  },
  {
   "cell_type": "code",
   "execution_count": 11,
   "id": "f5d2376f",
   "metadata": {},
   "outputs": [
    {
     "name": "stdout",
     "output_type": "stream",
     "text": [
      "-4 was not tested.\n",
      "Absolute value of 6 is 6\n",
      "-1 was not tested.\n",
      "Absolute value of 43 is 43\n",
      "Absolute value of -18 is 18\n",
      "2 was not tested.\n",
      "0 was not tested.\n"
     ]
    }
   ],
   "source": [
    "for n in [-4, 6, -1, 43, -18, 2, 0]:\n",
    "    if n < -5 or n > 2:\n",
    "        print('Absolute value of %g is %g' % (n, abs(n)))\n",
    "    else:\n",
    "        print('%g was not tested.' % (n))"
   ]
  }
 ],
 "metadata": {
  "kernelspec": {
   "display_name": "Python 3",
   "language": "python",
   "name": "python3"
  },
  "language_info": {
   "codemirror_mode": {
    "name": "ipython",
    "version": 3
   },
   "file_extension": ".py",
   "mimetype": "text/x-python",
   "name": "python",
   "nbconvert_exporter": "python",
   "pygments_lexer": "ipython3",
   "version": "3.9.4"
  }
 },
 "nbformat": 4,
 "nbformat_minor": 5
}
